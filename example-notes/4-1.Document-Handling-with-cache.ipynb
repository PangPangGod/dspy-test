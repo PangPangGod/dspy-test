{
 "cells": [
  {
   "cell_type": "markdown",
   "metadata": {},
   "source": [
    "Setup unstructured-api local environment with docker container\n",
    "\n",
    "`docker run -p 8000:8000 -d --rm --name unstructured-api downloads.unstructured.io/unstructured-io/unstructured-api:latest --port 8000 --host 0.0.0.0`"
   ]
  },
  {
   "cell_type": "code",
   "execution_count": 1,
   "metadata": {},
   "outputs": [],
   "source": [
    "from unstructured_client import UnstructuredClient\n",
    "from unstructured_client.models import shared\n",
    "\n",
    "client = UnstructuredClient(\n",
    "    server_url=\"http://localhost:8000\",\n",
    "    api_key_auth=\"\", #no need to authorize this parameter cause you don't use SASS api key.\n",
    ")"
   ]
  },
  {
   "cell_type": "code",
   "execution_count": 2,
   "metadata": {},
   "outputs": [],
   "source": [
    "filename = \"example/multi-column.pdf\"\n",
    "\n",
    "with open(filename, \"rb\") as f:\n",
    "    files = shared.Files(\n",
    "        content=f.read(),\n",
    "        file_name=filename,\n",
    "    )"
   ]
  },
  {
   "cell_type": "code",
   "execution_count": 3,
   "metadata": {},
   "outputs": [],
   "source": [
    "req = shared.PartitionParameters(\n",
    "    files=files,\n",
    "    chunking_strategy=\"by_title\",\n",
    "    strategy='hi_res',\n",
    "    split_pdf_page=True,\n",
    "    coordinates=True, ## this is just example. but if you want split_pdf_page, recommand to use hi_res strategy.\n",
    ")"
   ]
  },
  {
   "cell_type": "code",
   "execution_count": 4,
   "metadata": {},
   "outputs": [
    {
     "name": "stdout",
     "output_type": "stream",
     "text": [
      "INFO: Splitting PDF by page on client. Using 5 threads when calling API.\n",
      "INFO: Set UNSTRUCTURED_CLIENT_SPLIT_CALL_THREADS env var if you want to change that.\n",
      "Handled results : 171\n"
     ]
    }
   ],
   "source": [
    "try:\n",
    "    response = client.general.partition(req)\n",
    "    print(\"Handled results :\", len(response.elements))\n",
    "except Exception as e:\n",
    "    print(\"Exception :\", e)"
   ]
  },
  {
   "cell_type": "code",
   "execution_count": 17,
   "metadata": {},
   "outputs": [],
   "source": [
    "## pipeline data and caching\n",
    "import os\n",
    "import pickle\n",
    "\n",
    "def save_data_cache(filename, data, path=\"pkl\"):\n",
    "    base_filename = os.path.basename(filename)\n",
    "    base_filename = os.path.splitext(base_filename)[0]\n",
    "    base_filename = base_filename + '.pkl'\n",
    "\n",
    "    full_path = os.path.join(path, base_filename)\n",
    "\n",
    "    if not os.path.exists(path):\n",
    "        os.makedirs(path)\n",
    "\n",
    "    with open(full_path, 'wb') as file:\n",
    "        pickle.dump(data, file)\n",
    "    print(f\"Data saved to {full_path}\")"
   ]
  },
  {
   "cell_type": "code",
   "execution_count": 20,
   "metadata": {},
   "outputs": [],
   "source": [
    "def load_data_cache(filename, path=\"pkl\"):\n",
    "    full_path = os.path.join(path, filename)\n",
    "\n",
    "    if not os.path.exists(full_path):\n",
    "        raise FileNotFoundError(f\"No such file or directory: '{full_path}'\")\n",
    "\n",
    "    with open(full_path, 'rb') as file:\n",
    "        data = pickle.load(file)\n",
    "    print(f\"Data loaded from {full_path}\")\n",
    "    return data"
   ]
  },
  {
   "cell_type": "code",
   "execution_count": 18,
   "metadata": {},
   "outputs": [
    {
     "name": "stdout",
     "output_type": "stream",
     "text": [
      "Data saved to pkl\\multi-column.pkl\n"
     ]
    }
   ],
   "source": [
    "save_data_cache(filename=filename, data=response)"
   ]
  },
  {
   "cell_type": "code",
   "execution_count": 22,
   "metadata": {},
   "outputs": [
    {
     "name": "stdout",
     "output_type": "stream",
     "text": [
      "Data loaded from pkl\\multi-column.pkl\n"
     ]
    }
   ],
   "source": [
    "data = load_data_cache(filename=\"multi-column.pkl\")"
   ]
  },
  {
   "cell_type": "code",
   "execution_count": null,
   "metadata": {},
   "outputs": [],
   "source": []
  }
 ],
 "metadata": {
  "kernelspec": {
   "display_name": "dspy",
   "language": "python",
   "name": "python3"
  },
  "language_info": {
   "codemirror_mode": {
    "name": "ipython",
    "version": 3
   },
   "file_extension": ".py",
   "mimetype": "text/x-python",
   "name": "python",
   "nbconvert_exporter": "python",
   "pygments_lexer": "ipython3",
   "version": "3.12.2"
  }
 },
 "nbformat": 4,
 "nbformat_minor": 2
}
