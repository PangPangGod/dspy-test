{
 "cells": [
  {
   "cell_type": "code",
   "execution_count": 21,
   "metadata": {},
   "outputs": [],
   "source": [
    "import dspy\n",
    "import re\n",
    "\n",
    "llm = dspy.OpenAI(model='gpt-3.5-turbo')\n",
    "dspy.settings.configure(lm=llm)\n",
    "\n",
    "class BasicTableSummarize(dspy.Signature):\n",
    "    \"\"\"Summarize the given text. The text includes the contents of a table. Save contents in structured format.\"\"\"\n",
    "    text = dspy.InputField(desc=\"full text to summarize\")\n",
    "    summary = dspy.OutputField(desc=\"summarized text\")\n",
    "\n",
    "class TextPreprocessor:\n",
    "    name = \"TextPreprocessor\"\n",
    "    input_variable = \"empty\"\n",
    "    desc = \"remove unnecessery text\"\n",
    "\n",
    "    def __call__(self, text):\n",
    "        # 특수 문자 및 불필요한 공백 제거\n",
    "        text = re.sub(r'\\s+', ' ', text).strip()\n",
    "        return text"
   ]
  },
  {
   "cell_type": "code",
   "execution_count": 23,
   "metadata": {},
   "outputs": [],
   "source": [
    "######### ReAct module needs Tool\n",
    "\n",
    "### TODO: WORK WITH TOOLS\n",
    "\n",
    "\n",
    "summarizer = dspy.ReAct(BasicTableSummarize, tools=[TextPreprocessor()])\n",
    "\n",
    "result = summarizer(text=text)"
   ]
  }
 ],
 "metadata": {
  "kernelspec": {
   "display_name": "dspy",
   "language": "python",
   "name": "python3"
  },
  "language_info": {
   "codemirror_mode": {
    "name": "ipython",
    "version": 3
   },
   "file_extension": ".py",
   "mimetype": "text/x-python",
   "name": "python",
   "nbconvert_exporter": "python",
   "pygments_lexer": "ipython3",
   "version": "3.10.14"
  }
 },
 "nbformat": 4,
 "nbformat_minor": 2
}
