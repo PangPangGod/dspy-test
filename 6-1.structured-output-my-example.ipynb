{
 "cells": [
  {
   "cell_type": "markdown",
   "metadata": {},
   "source": [
    "1. weaviate client 만들기\n",
    "2. client 만든거에서 파일 가져오기 (이 부분 아마 바꿔야 할 수도 있음 llamaindex 통합 위해서 -> weaviate 참조)\n",
    "3. 검색 - reranking\n",
    "4. 결과 parse"
   ]
  },
  {
   "cell_type": "code",
   "execution_count": 1,
   "metadata": {},
   "outputs": [
    {
     "name": "stderr",
     "output_type": "stream",
     "text": [
      "c:\\anaconda\\envs\\dspy\\Lib\\site-packages\\weaviate\\warnings.py:121: DeprecationWarning: Dep005: You are using weaviate-client version 3.26.2. The latest version is 4.5.5.\n",
      "            Please consider upgrading to the latest version. See https://weaviate.io/developers/weaviate/client-libraries/python for details.\n",
      "  warnings.warn(\n"
     ]
    }
   ],
   "source": [
    "import weaviate\n",
    "import os\n",
    "\n",
    "weaviate_client = weaviate.Client(\"http://localhost:8080\",\n",
    "    additional_headers={\n",
    "        \"X-OpenAI-Api-Key\": os.getenv(\"OPENAI_API_KEY\"),\n",
    "    })"
   ]
  },
  {
   "cell_type": "code",
   "execution_count": 2,
   "metadata": {},
   "outputs": [],
   "source": [
    "# Unstructured api calling from local docker container\n",
    "# docker run -p 8000:8000 -d --rm --name unstructured-api -e UNSTRUCTURED_PARALLEL_MODE_THREADS=5 downloads.unstructured.io/unstructured-io/unstructured-api:latest --port 8000 --host 0.0.0.0\n",
    "from unstructured_client import UnstructuredClient\n",
    "from unstructured_client.models import shared\n",
    "\n",
    "document_handle_client = UnstructuredClient(\n",
    "    server_url=\"http://localhost:8000\",\n",
    "    api_key_auth=\"\", #no need to authorize this parameter cause you don't use SASS api key.\n",
    ")"
   ]
  },
  {
   "cell_type": "code",
   "execution_count": 3,
   "metadata": {},
   "outputs": [],
   "source": [
    "filename = \"dockerstest/pdf/sample_file.pdf\"\n",
    "\n",
    "with open(filename, \"rb\") as f:\n",
    "    files = shared.Files(\n",
    "        content=f.read(),\n",
    "        file_name=filename,\n",
    "    )"
   ]
  },
  {
   "cell_type": "code",
   "execution_count": 4,
   "metadata": {},
   "outputs": [],
   "source": [
    "req = shared.PartitionParameters(\n",
    "    files=files,\n",
    "    chunking_strategy=\"by_title\",\n",
    "    strategy='hi_res',\n",
    "    split_pdf_page=True,\n",
    "    coordinates=True, \n",
    "    ## this is just example. but if you want split_pdf_page, recommand to use hi_res strategy.\n",
    ")"
   ]
  },
  {
   "cell_type": "code",
   "execution_count": 5,
   "metadata": {},
   "outputs": [
    {
     "name": "stdout",
     "output_type": "stream",
     "text": [
      "WARNING: Xref table not zero-indexed. ID numbers for objects will be corrected.\n",
      "INFO: Splitting PDF by page on client. Using 5 threads when calling API.\n",
      "INFO: Set UNSTRUCTURED_CLIENT_SPLIT_CALL_THREADS env var if you want to change that.\n",
      "Handled results : 23\n"
     ]
    }
   ],
   "source": [
    "try:\n",
    "    resp = document_handle_client.general.partition(req)\n",
    "    print(\"Handled results :\", len(resp.elements))\n",
    "except Exception as e:\n",
    "    print(\"Exception :\", e)"
   ]
  },
  {
   "cell_type": "code",
   "execution_count": 6,
   "metadata": {},
   "outputs": [
    {
     "name": "stdout",
     "output_type": "stream",
     "text": [
      "[TextNode(id_='c1fe9d05-3456-4558-9279-5f6210bb1e1d', embedding=None, metadata={'type': 'CompositeElement', 'element_id': '28b187b9436cfc48154d3b50f0a387ad', 'filetype': 'application/pdf', 'languages': ['eng'], 'page_number': 1, 'filename': 'sample_file.pdf'}, excluded_embed_metadata_keys=[], excluded_llm_metadata_keys=[], relationships={}, text='Revision Date\\n\\n6/18/2009\\n\\nRevision\\n\\nChange Reason\\n\\nRevise specification. Change Vanadium from 0.075\\n\\n0.100\\n\\nChanged Jessica Merczak | Keith Paarfusser\\n\\nApproved\\n\\nN TN\\n\\nAMERICAN NTN BEARING MFG. CORP. ELGIN PLANT\\n\\n1/4\\n\\nBRG. NO.\\n\\nHUB BEARINGS\\n\\nSTANDARDIZATION OF PRODUCT QUALITY\\n\\nMACHINE\\n\\nN/A\\n\\nNO.\\n\\n06-M-5010.005', start_char_idx=None, end_char_idx=None, text_template='{metadata_str}\\n\\n{content}', metadata_template='{key}: {value}', metadata_seperator='\\n'), TextNode(id_='3774b148-abae-44e8-91fb-ef8c33dd2d6a', embedding=None, metadata={'type': 'CompositeElement', 'element_id': 'd853de28175bb6f04912d94de8f18882', 'filetype': 'application/pdf', 'languages': ['eng'], 'page_number': 1, 'filename': 'sample_file.pdf'}, excluded_embed_metadata_keys=[], excluded_llm_metadata_keys=[], relationships={}, text='TITLE: PURCHASING SPECIFICATION FOR CARBON STEEL\\n\\n1) Scope:\\n\\nThis specification covers general requirements for Carbon Steels for HUB Bearings\\n\\n2) Classification: The steel is classified as carbon steel. The symbol or code is S45C (SAE 1045 Mod). The steel shall be purchased in hot roll form.\\n\\n3) Method of Manufacture:\\n\\n1) \"Steels\" shall be manufactured from killed steel on which vacuum degassing has been performed\\n\\n2) Forging ratio of the steel shall be 6S or better\\n\\n4) Quality Requirements:', start_char_idx=None, end_char_idx=None, text_template='{metadata_str}\\n\\n{content}', metadata_template='{key}: {value}', metadata_seperator='\\n'), TextNode(id_='132a83b3-c252-4a44-ba34-bf1785d6a309', embedding=None, metadata={'type': 'CompositeElement', 'element_id': '6a7fd8848517a241671a67cc10151517', 'filetype': 'application/pdf', 'languages': ['eng'], 'page_number': 1, 'filename': 'sample_file.pdf'}, excluded_embed_metadata_keys=[], excluded_llm_metadata_keys=[], relationships={}, text='4.1 Chemical Composition:\\n\\nThe chemical composition of the steel shall be determined by the ladle analysis and the value shall be as given in Table 1.', start_char_idx=None, end_char_idx=None, text_template='{metadata_str}\\n\\n{content}', metadata_template='{key}: {value}', metadata_seperator='\\n'), TextNode(id_='491e6fab-3f82-427a-b753-c82b4e2391b7', embedding=None, metadata={'type': 'Table', 'element_id': 'd47c4b1900f50cdaa648d9d63938f459', 'filetype': 'application/pdf', 'languages': ['eng'], 'page_number': 1, 'filename': 'sample_file.pdf', 'flat_points': [384.1120300292969, 1386.3812255859375, 384.1120300292969, 2045.302490234375, 1197.6668701171875, 2045.302490234375, 1197.6668701171875, 1386.3812255859375], 'coordinate_system': 'PixelSpace', 'layout_width': 1700, 'layout_height': 2200}, excluded_embed_metadata_keys=[], excluded_llm_metadata_keys=[], relationships={}, text='Element Composition % Carbon Silicon Manganese Phosphorus Sulfur Chromium Copper Oxygen Nickel Molybdenum Chromium & Nickel Vanadium DI (Ideal Diameter) 1.4 - 1.80 (Calculated) ASTM A 255 0.42 - 0.48 0.15 - 0.35 0.60 - 0.90 0.030 Max 0.035 Max 0.10 - 0.20 0.30 Max less than 20PPM 0.20 Max 0.04 Max Not to exceed 0.35% 0.100 Max', start_char_idx=None, end_char_idx=None, text_template='{metadata_str}\\n\\n{content}', metadata_template='{key}: {value}', metadata_seperator='\\n'), TextNode(id_='200e1cc1-b85a-4d6b-aa8e-794258b79132', embedding=None, metadata={'type': 'CompositeElement', 'element_id': 'a3f8d75d30299e5099e2ff12b8dbb4c5', 'filetype': 'application/pdf', 'languages': ['eng'], 'page_number': 1, 'filename': 'sample_file.pdf'}, excluded_embed_metadata_keys=[], excluded_llm_metadata_keys=[], relationships={}, text='C.C.\\n\\n06-M-5010.005-S45C (SAE1045 Modified) Purchasing Specification for Carbon Steel - TES SB 0512 - Uncontrolled Page 1 of 4\\n\\nRev #: 3 Rev. Date: 6/18/2009', start_char_idx=None, end_char_idx=None, text_template='{metadata_str}\\n\\n{content}', metadata_template='{key}: {value}', metadata_seperator='\\n'), TextNode(id_='73564eaa-eded-46b5-8068-a40ad4acaea8', embedding=None, metadata={'type': 'CompositeElement', 'element_id': '57965840dc4c24020e660e842658bfd8', 'filetype': 'application/pdf', 'languages': ['eng'], 'page_number': 2, 'filename': 'sample_file.pdf'}, excluded_embed_metadata_keys=[], excluded_llm_metadata_keys=[], relationships={}, text='Revision Date\\n\\n6/18/2009\\n\\nRevision\\n\\nChange Reason\\n\\nRevise specification. Change Vanadium from 0.075\\n\\n0.100\\n\\nChanged Jessica Merczak | Keith Paarfusser\\n\\nApproved\\n\\nAMERICAN NTN BEARING MFG. CORP. ELGIN PLANT 2/4\\n\\nSTANDARDIZATION OF PRODUCT QUALITY\\n\\nBRG. NO.\\n\\nHUB BEARINGS\\n\\n[ yacrine |un\\n\\nMACHINE\\n\\nN/A\\n\\nNO.\\n\\n06-M-5010.005', start_char_idx=None, end_char_idx=None, text_template='{metadata_str}\\n\\n{content}', metadata_template='{key}: {value}', metadata_seperator='\\n'), TextNode(id_='850276ad-9dd8-4db3-9e8c-14a6f82205ca', embedding=None, metadata={'type': 'CompositeElement', 'element_id': '237908594fceaa5222f7a744db2c2a0f', 'filetype': 'application/pdf', 'languages': ['eng'], 'page_number': 2, 'filename': 'sample_file.pdf'}, excluded_embed_metadata_keys=[], excluded_llm_metadata_keys=[], relationships={}, text='TITLE: PURCHASING SPECIFICATION FOR CARBON STEEL\\n\\n4.2 Non-Metallic Inclusions:\\n\\nThe test specimen shall be sampled by cutting out the specimen parallel to its rolled direction or forged axis. Based on ASTM E-45, non metallic inclusions shall be measured and shall not exceed the limits given in Table 2.', start_char_idx=None, end_char_idx=None, text_template='{metadata_str}\\n\\n{content}', metadata_template='{key}: {value}', metadata_seperator='\\n'), TextNode(id_='906a7f54-ac6a-4594-bba9-e8a89331cd28', embedding=None, metadata={'type': 'Table', 'element_id': 'eeb2d46b9fbc748e7361b3ef917aefb5', 'filetype': 'application/pdf', 'languages': ['eng'], 'page_number': 2, 'filename': 'sample_file.pdf', 'flat_points': [420.1593017578125, 799.5048217773438, 420.1593017578125, 1046.7760009765625, 898.5090942382812, 1046.7760009765625, 898.5090942382812, 799.5048217773438], 'coordinate_system': 'PixelSpace', 'layout_width': 1700, 'layout_height': 2200}, excluded_embed_metadata_keys=[], excluded_llm_metadata_keys=[], relationships={}, text='Table 2 Type A B C D Thin 3 2 ½ 2 1 ½ Heavy 2 2 1 1', start_char_idx=None, end_char_idx=None, text_template='{metadata_str}\\n\\n{content}', metadata_template='{key}: {value}', metadata_seperator='\\n'), TextNode(id_='afe915a3-2ff5-4518-88ee-bc1e6f324a50', embedding=None, metadata={'type': 'CompositeElement', 'element_id': '207660529ea44721ae4ea1f1c7a1abd0', 'filetype': 'application/pdf', 'languages': ['eng'], 'page_number': 2, 'filename': 'sample_file.pdf'}, excluded_embed_metadata_keys=[], excluded_llm_metadata_keys=[], relationships={}, text='4.3 Macrostructure:\\n\\nMacrostructure shall be rating \"S2-R2-C1\" as defined in ASTM E381 Plate 1 and over\\n\\n4.4 Macro-Streak Flaw:\\n\\nMacro Streak Flaw shall be evaluated by machining down a specimen 3mm from nominal diameter\\n\\nThe roughness of the finished surface shall be 5 microns on the Ra scale.', start_char_idx=None, end_char_idx=None, text_template='{metadata_str}\\n\\n{content}', metadata_template='{key}: {value}', metadata_seperator='\\n'), TextNode(id_='05f353bb-f425-4a69-bcdc-3133054798d3', embedding=None, metadata={'type': 'CompositeElement', 'element_id': '144613541e0745516d7b5416bec36a0b', 'filetype': 'application/pdf', 'languages': ['eng'], 'page_number': 2, 'filename': 'sample_file.pdf'}, excluded_embed_metadata_keys=[], excluded_llm_metadata_keys=[], relationships={}, text='The length and number of the macro - streak flaw shall be measured on the finished surface. The length and numbers of macro-streak flaw converted to values per 100 cm sq of test area shall be examined & conform to table 3.', start_char_idx=None, end_char_idx=None, text_template='{metadata_str}\\n\\n{content}', metadata_template='{key}: {value}', metadata_seperator='\\n'), TextNode(id_='10694eae-6f8a-40ca-81f7-1f37f00b2616', embedding=None, metadata={'type': 'Table', 'element_id': '7adbaa61608570a470a74d0d3bc0ddbb', 'filetype': 'application/pdf', 'languages': ['eng'], 'page_number': 2, 'filename': 'sample_file.pdf', 'flat_points': [267.5479736328125, 1810.19580078125, 267.5479736328125, 2019.904052734375, 1386.90185546875, 2019.904052734375, 1386.90185546875, 1810.19580078125], 'coordinate_system': 'PixelSpace', 'layout_width': 1700, 'layout_height': 2200}, excluded_embed_metadata_keys=[], excluded_llm_metadata_keys=[], relationships={}, text='Table 3 Length of Macro-Streak flaw (mm) Number of Macro-Streak flaw (per 100cm sq) Over 0.5 to 1.0 incl. 6.0 Max Over 1.0 to 2.0 incl. 1.5 Max Over 2.0 to 4.0 incl. 1.0 Max', start_char_idx=None, end_char_idx=None, text_template='{metadata_str}\\n\\n{content}', metadata_template='{key}: {value}', metadata_seperator='\\n'), TextNode(id_='073c580f-5d0a-4270-ae38-15c186e1a3e6', embedding=None, metadata={'type': 'CompositeElement', 'element_id': '3d3fc089f3749b886528eea30d937701', 'filetype': 'application/pdf', 'languages': ['eng'], 'page_number': 2, 'filename': 'sample_file.pdf'}, excluded_embed_metadata_keys=[], excluded_llm_metadata_keys=[], relationships={}, text='C.C.\\n\\n06-M-5010.005-S45C (SAE1045 Modified) Purchasing Specification for Carbon Steel - TES SB 0512 - Uncontrolled Page 2 of 4\\n\\nRev #: 3 Rev. Date: 6/18/2009', start_char_idx=None, end_char_idx=None, text_template='{metadata_str}\\n\\n{content}', metadata_template='{key}: {value}', metadata_seperator='\\n'), TextNode(id_='6e3af118-88eb-4ac0-91d5-bf34dd8e267c', embedding=None, metadata={'type': 'CompositeElement', 'element_id': 'f5b97f5e0dc0246d25d95fc17da76b29', 'filetype': 'application/pdf', 'languages': ['eng'], 'page_number': 3, 'filename': 'sample_file.pdf'}, excluded_embed_metadata_keys=[], excluded_llm_metadata_keys=[], relationships={}, text='Revision Date\\n\\n6/18/2009\\n\\nRevision\\n\\nChange Reason\\n\\nRevise specification. Change Vanadium from 0.075\\n\\n0.100\\n\\nChanged Jessica Merczak | Keith Paarfusser\\n\\nApproved\\n\\nAMERICAN NTN BEARING MFG. CORP. ELGIN PLANT\\n\\n3/4\\n\\nSTANDARDIZATION OF PRODUCT QUALITY\\n\\nBRG. NO.\\n\\nHUB BEARINGS\\n\\n[ yacrine |un\\n\\nMACHINE\\n\\nN/A\\n\\nNO.\\n\\n06-M-5010.005', start_char_idx=None, end_char_idx=None, text_template='{metadata_str}\\n\\n{content}', metadata_template='{key}: {value}', metadata_seperator='\\n'), TextNode(id_='3506b3d5-a549-49a9-82f0-01766e83ec3a', embedding=None, metadata={'type': 'CompositeElement', 'element_id': '5d822a7100f8c4a7039544bba8650fa7', 'filetype': 'application/pdf', 'languages': ['eng'], 'page_number': 3, 'filename': 'sample_file.pdf'}, excluded_embed_metadata_keys=[], excluded_llm_metadata_keys=[], relationships={}, text='TITLE: PURCHASING SPECIFICATION FOR CARBON STEEL\\n\\n4.5\\n\\nGrain Size: Austenite grain size shall be between 5 and 9 as per ASTM E112.\\n\\n4.6\\n\\nDecarburization Decarburization depth shall be 0.5mm or less\\n\\n4.7', start_char_idx=None, end_char_idx=None, text_template='{metadata_str}\\n\\n{content}', metadata_template='{key}: {value}', metadata_seperator='\\n'), TextNode(id_='10cdf633-25b4-4348-9edf-77e914f6f6ba', embedding=None, metadata={'type': 'CompositeElement', 'element_id': 'd690145ef656ea2d879d4ddcf6ceb304', 'filetype': 'application/pdf', 'languages': ['eng'], 'page_number': 3, 'filename': 'sample_file.pdf'}, excluded_embed_metadata_keys=[], excluded_llm_metadata_keys=[], relationships={}, text=\"Appearance & Surface Quality 4.7.1\\n\\nBar surface should be of good finish and free from injurious imperfections such as gouges, dents, and bite marks Depth of seam or other defect should not exceed 0.30mm. Defects can be removed by grinding. However, the diameter shall not exceed the specified size It is supplier's responsibility to ensure that the material furnished shall be of good quality and shall not adversely affect the end product.\\n\\n4.7.2\\n\\n4.8\", start_char_idx=None, end_char_idx=None, text_template='{metadata_str}\\n\\n{content}', metadata_template='{key}: {value}', metadata_seperator='\\n'), TextNode(id_='19ba817b-fb85-48cd-b0dc-707e09d6aa97', embedding=None, metadata={'type': 'CompositeElement', 'element_id': 'f3e7994add12965f7435de4390f169aa', 'filetype': 'application/pdf', 'languages': ['eng'], 'page_number': 3, 'filename': 'sample_file.pdf'}, excluded_embed_metadata_keys=[], excluded_llm_metadata_keys=[], relationships={}, text='Hardness: Hardness measured at mid radius of the rolled bar shall be 85-95HRB\\n\\n4.9\\n\\nMechanical Properties: Mechanical properties of the steel shall conform to Table 4\\n\\nTable 4', start_char_idx=None, end_char_idx=None, text_template='{metadata_str}\\n\\n{content}', metadata_template='{key}: {value}', metadata_seperator='\\n'), TextNode(id_='2dc76ac7-0113-4ffb-a269-19bbadce4f2f', embedding=None, metadata={'type': 'Table', 'element_id': 'ac4ea14e35f9f708379d67cd5a95b53f', 'filetype': 'application/pdf', 'languages': ['eng'], 'page_number': 3, 'filename': 'sample_file.pdf', 'flat_points': [114.12439727783203, 1481.83984375, 114.12439727783203, 1664.37841796875, 1380.2607421875, 1664.37841796875, 1380.2607421875, 1481.83984375], 'coordinate_system': 'PixelSpace', 'layout_width': 1700, 'layout_height': 2200}, excluded_embed_metadata_keys=[], excluded_llm_metadata_keys=[], relationships={}, text='Heat Treatment Tempering (Forced Cooling) Hardening (Water Quench) Yield Strength Kg/mm² Tensile Strength Kg/mm² Physical Properties Elongation % Reduction of Area % Charpy Impact Test Kgfm/cm² Hardness Brinell (HB) 820°-870° c 550°-650° c 50 Min. 70 Min. 17 Min. 45 Min. 8 Min. 201-269', start_char_idx=None, end_char_idx=None, text_template='{metadata_str}\\n\\n{content}', metadata_template='{key}: {value}', metadata_seperator='\\n'), TextNode(id_='b0c2b7fc-7cb3-4815-b42e-0cd9c209c23e', embedding=None, metadata={'type': 'CompositeElement', 'element_id': 'de146716cb1b60e34a28b6a9af7e3945', 'filetype': 'application/pdf', 'languages': ['eng'], 'page_number': 3, 'filename': 'sample_file.pdf'}, excluded_embed_metadata_keys=[], excluded_llm_metadata_keys=[], relationships={}, text='C.C.\\n\\n06-M-5010.005-S45C (SAE1045 Modified) Purchasing Specification for Carbon Steel - TES SB 0512 - Uncontrolled Page 3 of 4\\n\\nRev #: 3 Rev. Date: 6/18/2009', start_char_idx=None, end_char_idx=None, text_template='{metadata_str}\\n\\n{content}', metadata_template='{key}: {value}', metadata_seperator='\\n'), TextNode(id_='1886fd59-83d3-41d2-972a-a4dfad3d16a4', embedding=None, metadata={'type': 'CompositeElement', 'element_id': 'b294ea892a3924549d56b3411df4879f', 'filetype': 'application/pdf', 'languages': ['eng'], 'page_number': 4, 'filename': 'sample_file.pdf'}, excluded_embed_metadata_keys=[], excluded_llm_metadata_keys=[], relationships={}, text='3\\n\\nRevision Date:\\n\\n6/18/2009\\n\\nRevision\\n\\nChange Reason\\n\\nRevise specification. Change Vanadium from 0.075\\n\\n0.100\\n\\nChanged Jessica Merczak | Keith Paarfusser\\n\\nApproved\\n\\nAMERICAN NTN BEARING MFG. CORP. ELGIN PLANT', start_char_idx=None, end_char_idx=None, text_template='{metadata_str}\\n\\n{content}', metadata_template='{key}: {value}', metadata_seperator='\\n'), TextNode(id_='5b359db6-a579-4eb9-afd4-b33d4e348209', embedding=None, metadata={'type': 'CompositeElement', 'element_id': 'f7903f7ad8f602ae64c6411aea68bbd5', 'filetype': 'application/pdf', 'languages': ['eng'], 'page_number': 4, 'filename': 'sample_file.pdf'}, excluded_embed_metadata_keys=[], excluded_llm_metadata_keys=[], relationships={}, text='4/4 HUB BEARINGS N/A 06-M-5010.005 PURCHASING SPECIFICATION FOR CARBON STEEL BRG. NO. MACHINE NO. STANDARDIZATION OF PRODUCT QUALITY TITLE:\\n\\n4.10\\n\\nDimensional Tolerances for hot rolled steel bars\\n\\n4.9.1 Size: As specified by forging company 4.9.2 Out-of-Round * : 70% of size tolerance\\n\\n4.9.3', start_char_idx=None, end_char_idx=None, text_template='{metadata_str}\\n\\n{content}', metadata_template='{key}: {value}', metadata_seperator='\\n'), TextNode(id_='b6f6167c-a361-4a70-8ae7-68f07b0e2253', embedding=None, metadata={'type': 'CompositeElement', 'element_id': '32b712e45ebc67de828592c32260bf28', 'filetype': 'application/pdf', 'languages': ['eng'], 'page_number': 4, 'filename': 'sample_file.pdf'}, excluded_embed_metadata_keys=[], excluded_llm_metadata_keys=[], relationships={}, text='Out-of -round is the difference between the maximum and the minimum diameters of the bar, measured at the same cross section Length : 6.5 M**, + 100mm. No length under tolerance allowed ** Or as specified by the forging company\\n\\n4.9.4 Straightness: 2mm/1000mm max\\n\\n4.11\\n\\nThe bar ends must have concentric C2-C4 chamfer. Face of one end of the bar shall have the heat number stamped and painted\\n\\n4.12', start_char_idx=None, end_char_idx=None, text_template='{metadata_str}\\n\\n{content}', metadata_template='{key}: {value}', metadata_seperator='\\n'), TextNode(id_='25308a76-0ebd-470f-8770-b3242c709742', embedding=None, metadata={'type': 'CompositeElement', 'element_id': '221483872590953ed7181f8f9316ebc9', 'filetype': 'application/pdf', 'languages': ['eng'], 'page_number': 4, 'filename': 'sample_file.pdf'}, excluded_embed_metadata_keys=[], excluded_llm_metadata_keys=[], relationships={}, text=\"Shipping Instructions a) Full tarp required b) Bars shall be supported on wooden supports c) Must be accessible for unloading by overhead crane d) Attach two tags indicating steel grade, heat number, bar diameter, number of bars, weight and producer's name e) If chains are used, protectors must be used to prevent direct contact with steel bars f) Mill Certification required with each shipment g) Where applicable, all reference values should be in metric\", start_char_idx=None, end_char_idx=None, text_template='{metadata_str}\\n\\n{content}', metadata_template='{key}: {value}', metadata_seperator='\\n'), TextNode(id_='695b5118-abbb-43a7-83d7-d04eaf8e9372', embedding=None, metadata={'type': 'CompositeElement', 'element_id': 'fb1862e5a323a8eb990a347bc86cb180', 'filetype': 'application/pdf', 'languages': ['eng'], 'page_number': 4, 'filename': 'sample_file.pdf'}, excluded_embed_metadata_keys=[], excluded_llm_metadata_keys=[], relationships={}, text='5.00) Other\\n\\n5.1 Bundle weight & size shall be by agreement between steel mill & forging company\\n\\n5.2 Items specified in this document shall be regarded as confidential\\n\\nC.C.\\n\\n06-M-5010.005-S45C (SAE1045 Modified) Purchasing Specification for Carbon Steel - TES SB 0512 - Uncontrolled Page 4 of 4\\n\\nRev #: 3 Rev. Date: 6/18/2009', start_char_idx=None, end_char_idx=None, text_template='{metadata_str}\\n\\n{content}', metadata_template='{key}: {value}', metadata_seperator='\\n')]\n"
     ]
    }
   ],
   "source": [
    "from llama_index.core.schema import TextNode\n",
    "\n",
    "def integrate_unstructured_metadata_with_llama_index(element):\n",
    "    text = element['text']\n",
    "    \n",
    "    metadata = {key: value for key, value in element.items() if key != 'text'}\n",
    "    metadata.update(metadata.pop('metadata', {}))\n",
    "\n",
    "    if 'coordinates' in metadata and 'points' in metadata['coordinates']:\n",
    "        flat_points = [coord for point in metadata['coordinates']['points'] for coord in point]\n",
    "        metadata['flat_points'] = flat_points\n",
    "\n",
    "        metadata['coordinate_system'] = metadata['coordinates']['system']\n",
    "        metadata['layout_width'] = metadata['coordinates']['layout_width']\n",
    "        metadata['layout_height'] = metadata['coordinates']['layout_height']\n",
    "\n",
    "        del metadata['coordinates']\n",
    "\n",
    "    return text, metadata\n",
    "\n",
    "nodes = []\n",
    "\n",
    "for element in resp.elements:\n",
    "    text, metadata = integrate_unstructured_metadata_with_llama_index(element)\n",
    "    nodes.append(TextNode(\n",
    "        text=text,\n",
    "        metadata=metadata,\n",
    "    ))\n",
    "\n",
    "print(nodes)"
   ]
  },
  {
   "cell_type": "code",
   "execution_count": 7,
   "metadata": {},
   "outputs": [],
   "source": [
    "from llama_index.vector_stores.weaviate import WeaviateVectorStore\n",
    "from llama_index.postprocessor.flag_embedding_reranker import FlagEmbeddingReranker\n",
    "from llama_index.core import StorageContext, VectorStoreIndex"
   ]
  },
  {
   "cell_type": "code",
   "execution_count": 8,
   "metadata": {},
   "outputs": [
    {
     "name": "stdout",
     "output_type": "stream",
     "text": [
      "INFO: HTTP Request: POST https://api.openai.com/v1/embeddings \"HTTP/1.1 200 OK\"\n"
     ]
    }
   ],
   "source": [
    "vector_store = WeaviateVectorStore(weaviate_client=weaviate_client, index_name=\"Sample_pdf_document_4\")\n",
    "storage_context = StorageContext.from_defaults(vector_store=vector_store)\n",
    "index = VectorStoreIndex(nodes, storage_context=storage_context)"
   ]
  },
  {
   "cell_type": "code",
   "execution_count": null,
   "metadata": {},
   "outputs": [],
   "source": [
    "retriever = index.as_retriever(similarity_top_k=5)\n",
    "retriever.retrieve(\"What is chemical composition?\")"
   ]
  },
  {
   "cell_type": "code",
   "execution_count": 10,
   "metadata": {},
   "outputs": [
    {
     "name": "stdout",
     "output_type": "stream",
     "text": [
      "INFO: HTTP Request: POST https://api.openai.com/v1/embeddings \"HTTP/1.1 200 OK\"\n"
     ]
    }
   ],
   "source": [
    "response = retriever.retrieve(\"What is chemical composition?\")"
   ]
  },
  {
   "cell_type": "code",
   "execution_count": null,
   "metadata": {},
   "outputs": [],
   "source": [
    "print(response[3].metadata)"
   ]
  },
  {
   "cell_type": "code",
   "execution_count": null,
   "metadata": {},
   "outputs": [],
   "source": [
    "from llama_index.llms.openai import OpenAI\n",
    "\n",
    "## config llm like this\n",
    "llm = OpenAI(model=\"gpt-3.5-turbo\")"
   ]
  },
  {
   "cell_type": "code",
   "execution_count": null,
   "metadata": {},
   "outputs": [],
   "source": [
    "rerank = FlagEmbeddingReranker(model=\"BAAI/bge-reranker-v2-m3\", top_n=5)\n",
    "query_engine = index.as_query_engine(llm=llm, similarity_top_k=5, node_postprocessors=[rerank]) ## from this part check llm.\n",
    "# response = query_engine.query(\"What is chemical composition?\")"
   ]
  },
  {
   "cell_type": "code",
   "execution_count": null,
   "metadata": {},
   "outputs": [],
   "source": [
    "# print(response)"
   ]
  },
  {
   "cell_type": "code",
   "execution_count": null,
   "metadata": {},
   "outputs": [],
   "source": [
    "# print(response.get_formatted_sources(length=200))"
   ]
  },
  {
   "cell_type": "code",
   "execution_count": null,
   "metadata": {},
   "outputs": [],
   "source": [
    "resp2 = query_engine.query(\"specific non-metallic inclusion with json format\")"
   ]
  },
  {
   "cell_type": "code",
   "execution_count": null,
   "metadata": {},
   "outputs": [],
   "source": [
    "print(resp2.get_formatted_sources(length=200))"
   ]
  },
  {
   "cell_type": "code",
   "execution_count": null,
   "metadata": {},
   "outputs": [],
   "source": [
    "print(resp2)"
   ]
  },
  {
   "cell_type": "code",
   "execution_count": null,
   "metadata": {},
   "outputs": [],
   "source": []
  }
 ],
 "metadata": {
  "kernelspec": {
   "display_name": "dspy",
   "language": "python",
   "name": "python3"
  },
  "language_info": {
   "codemirror_mode": {
    "name": "ipython",
    "version": 3
   },
   "file_extension": ".py",
   "mimetype": "text/x-python",
   "name": "python",
   "nbconvert_exporter": "python",
   "pygments_lexer": "ipython3",
   "version": "3.12.2"
  }
 },
 "nbformat": 4,
 "nbformat_minor": 2
}
