{
 "cells": [
  {
   "cell_type": "markdown",
   "metadata": {},
   "source": [
    "Using pdf2htmlEX to convert html(see link below) than using it to parse.\n",
    "\n",
    "using this image with command :\n",
    "`docker pull pdf2htmlex/pdf2htmlex:0.18.8.rc2-master-20200820-ubuntu-20.04-x86_64`\n",
    "\n",
    "in detail : [pdf2tmlEX](https://github.com/pdf2htmlEX/pdf2htmlEX)"
   ]
  },
  {
   "cell_type": "code",
   "execution_count": 57,
   "metadata": {},
   "outputs": [],
   "source": [
    "from unstructured_inference.inference.layout import DocumentLayout\n",
    "from unstructured_inference.models.base import get_model\n",
    "from unstructured_inference.inference.layout import process_file_with_model\n",
    "fname = \"example/sample_file.pdf\"\n",
    "\n",
    "model = get_model(\"yolox\")\n",
    "layout = DocumentLayout.from_file(fname, detection_model=model) # assume you using html parsed file."
   ]
  },
  {
   "cell_type": "code",
   "execution_count": 58,
   "metadata": {},
   "outputs": [],
   "source": [
    "annotation_data_map = {\n",
    "    \"final\": None,\n",
    "    \"extracted\": {\"layout\": {\"color\": \"green\", \"width\": 2}},\n",
    "    \"inferred\": {\"inferred_layout\": {\"color\": \"blue\", \"width\": 2}},\n",
    "    \"ocr\": {\"ocr_layout\": {\"color\": \"yellow\", \"width\": 2}},\n",
    "}"
   ]
  },
  {
   "cell_type": "code",
   "execution_count": 59,
   "metadata": {},
   "outputs": [
    {
     "name": "stdout",
     "output_type": "stream",
     "text": [
      "[LayoutElement(bbox=Rectangle(x1=107.00845336914062, y1=60.57137680053711, x2=302.83349609375, y2=101.11221313476562), text=None, source=<Source.YOLOX: 'yolox'>, type='Page-header', prob=0.34800100326538086, image_path=None, parent=None), LayoutElement(bbox=Rectangle(x1=117.78240203857422, y1=420.69964599609375, x2=1563.4102783203125, y2=477.9920654296875), text=None, source=<Source.YOLOX: 'yolox'>, type='Section-header', prob=0.5629148483276367, image_path=None, parent=None), LayoutElement(bbox=Rectangle(x1=258.0867614746094, y1=511.06005859375, x2=1387.489501953125, y2=583.8973388671875), text=None, source=<Source.YOLOX: 'yolox'>, type='List-item', prob=0.4687464237213135, image_path=None, parent=None), LayoutElement(bbox=Rectangle(x1=234.56793212890625, y1=634.2048950195312, x2=1411.3292236328125, y2=711.9740600585938), text=None, source=<Source.YOLOX: 'yolox'>, type='List-item', prob=0.49582821130752563, image_path=None, parent=None), LayoutElement(bbox=Rectangle(x1=221.23504638671875, y1=761.60302734375, x2=619.974609375, y2=795.4721069335938), text=None, source=<Source.YOLOX: 'yolox'>, type='List-item', prob=0.5491611361503601, image_path=None, parent=None), LayoutElement(bbox=Rectangle(x1=384.0058288574219, y1=847.1011352539062, x2=1518.301025390625, y2=920.23828125), text=None, source=<Source.YOLOX: 'yolox'>, type='List-item', prob=0.8787730932235718, image_path=None, parent=None), LayoutElement(bbox=Rectangle(x1=386.62347412109375, y1=973.25830078125, x2=1076.6507568359375, y2=1008.1334838867188), text=None, source=<Source.YOLOX: 'yolox'>, type='List-item', prob=0.6010002493858337, image_path=None, parent=None), LayoutElement(bbox=Rectangle(x1=226.45262145996094, y1=1101.0699462890625, x2=593.5332641601562, y2=1134.8846435546875), text=None, source=<Source.YOLOX: 'yolox'>, type='List-item', prob=0.454776793718338, image_path=None, parent=None), LayoutElement(bbox=Rectangle(x1=369.28070068359375, y1=1186.02001953125, x2=767.6582641601562, y2=1218.8568115234375), text=None, source=<Source.YOLOX: 'yolox'>, type='Text', prob=0.6915597915649414, image_path=None, parent=None), LayoutElement(bbox=Rectangle(x1=425.94537353515625, y1=1272.4215087890625, x2=1448.3660888671875, y2=1345.717041015625), text=None, source=<Source.YOLOX: 'yolox'>, type='Text', prob=0.9004263877868652, image_path=None, parent=None), LayoutElement(bbox=Rectangle(x1=384.1120300292969, y1=1386.38134765625, x2=1197.6668701171875, y2=2045.3023681640625), text=None, source=<Source.YOLOX: 'yolox'>, type='Table', prob=0.8125469088554382, image_path=None, parent=None), LayoutElement(bbox=Rectangle(x1=174.52493286132812, y1=2050.792236328125, x2=216.60665893554688, y2=2076.9990234375), text=None, source=<Source.YOLOX: 'yolox'>, type='Text', prob=0.8342545628547668, image_path=None, parent=None), LayoutElement(bbox=Rectangle(x1=157.28961181640625, y1=2147.030517578125, x2=1263.4615478515625, y2=2192.353515625), text=None, source=<Source.YOLOX: 'yolox'>, type='Text', prob=0.8789057731628418, image_path=None, parent=None), LayoutElement(bbox=Rectangle(x1=1346.2705078125, y1=2147.175537109375, x2=1556.78564453125, y2=2193.2255859375), text=None, source=<Source.YOLOX: 'yolox'>, type='Text', prob=0.4099416434764862, image_path=None, parent=None)]\n",
      "[LayoutElement(bbox=Rectangle(x1=107.1502914428711, y1=60.5183219909668, x2=302.9091491699219, y2=101.17992401123047), text=None, source=<Source.YOLOX: 'yolox'>, type='Page-header', prob=0.3461748957633972, image_path=None, parent=None), LayoutElement(bbox=Rectangle(x1=938.0263671875, y1=169.9568328857422, x2=1549.25439453125, y2=226.15182495117188), text=None, source=<Source.YOLOX: 'yolox'>, type='Text', prob=0.35776451230049133, image_path=None, parent=None), LayoutElement(bbox=Rectangle(x1=129.26150512695312, y1=415.5482177734375, x2=1534.0513916015625, y2=470.8746643066406), text=None, source=<Source.YOLOX: 'yolox'>, type='Section-header', prob=0.5152952075004578, image_path=None, parent=None), LayoutElement(bbox=Rectangle(x1=368.2651062011719, y1=540.945068359375, x2=778.8541259765625, y2=576.8220825195312), text=None, source=<Source.YOLOX: 'yolox'>, type='Text', prob=0.5993398427963257, image_path=None, parent=None), LayoutElement(bbox=Rectangle(x1=429.5059509277344, y1=627.0264282226562, x2=1544.109375, y2=745.0886840820312), text=None, source=<Source.YOLOX: 'yolox'>, type='Text', prob=0.9284456372261047, image_path=None, parent=None), LayoutElement(bbox=Rectangle(x1=420.159423828125, y1=799.5038452148438, x2=898.50927734375, y2=1046.7760009765625), text=None, source=<Source.YOLOX: 'yolox'>, type='Table', prob=0.8525650501251221, image_path=None, parent=None), LayoutElement(bbox=Rectangle(x1=370.81341552734375, y1=1091.8858642578125, x2=659.6731567382812, y2=1126.8214111328125), text=None, source=<Source.YOLOX: 'yolox'>, type='Text', prob=0.6623443961143494, image_path=None, parent=None), LayoutElement(bbox=Rectangle(x1=430.9529724121094, y1=1176.324951171875, x2=1412.34765625, y2=1253.1588134765625), text=None, source=<Source.YOLOX: 'yolox'>, type='Text', prob=0.6322910189628601, image_path=None, parent=None), LayoutElement(bbox=Rectangle(x1=370.9952697753906, y1=1303.4169921875, x2=715.6890258789062, y2=1337.57763671875), text=None, source=<Source.YOLOX: 'yolox'>, type='Text', prob=0.8014260530471802, image_path=None, parent=None), LayoutElement(bbox=Rectangle(x1=427.029541015625, y1=1389.1470947265625, x2=1513.81201171875, y2=1461.716552734375), text=None, source=<Source.YOLOX: 'yolox'>, type='Text', prob=0.8775407671928406, image_path=None, parent=None), LayoutElement(bbox=Rectangle(x1=433.2654113769531, y1=1514.576904296875, x2=1483.69921875, y2=1549.510986328125), text=None, source=<Source.YOLOX: 'yolox'>, type='Text', prob=0.7893779277801514, image_path=None, parent=None), LayoutElement(bbox=Rectangle(x1=430.6779479980469, y1=1600.0018310546875, x2=1498.13134765625, y2=1671.723876953125), text=None, source=<Source.YOLOX: 'yolox'>, type='Text', prob=0.8289844393730164, image_path=None, parent=None), LayoutElement(bbox=Rectangle(x1=419.65643310546875, y1=1684.6654052734375, x2=1444.6158447265625, y2=1759.833740234375), text=None, source=<Source.YOLOX: 'yolox'>, type='Text', prob=0.8269700407981873, image_path=None, parent=None), LayoutElement(bbox=Rectangle(x1=267.5479736328125, y1=1810.19580078125, x2=1386.90185546875, y2=2019.904052734375), text=None, source=<Source.YOLOX: 'yolox'>, type='Table', prob=0.8997624516487122, image_path=None, parent=None), LayoutElement(bbox=Rectangle(x1=173.93075561523438, y1=2099.845947265625, x2=217.1171112060547, y2=2126.797119140625), text=None, source=<Source.YOLOX: 'yolox'>, type='Text', prob=0.8166765570640564, image_path=None, parent=None), LayoutElement(bbox=Rectangle(x1=168.9785919189453, y1=2144.9375, x2=1270.5655517578125, y2=2192.954345703125), text=None, source=<Source.YOLOX: 'yolox'>, type='Text', prob=0.8214974999427795, image_path=None, parent=None), LayoutElement(bbox=Rectangle(x1=1356.69580078125, y1=2146.176513671875, x2=1558.7215576171875, y2=2193.099609375), text=None, source=<Source.YOLOX: 'yolox'>, type='Text', prob=0.35348939895629883, image_path=None, parent=None)]\n",
      "[LayoutElement(bbox=Rectangle(x1=106.94768524169922, y1=60.55585479736328, x2=302.809814453125, y2=101.156005859375), text=None, source=<Source.YOLOX: 'yolox'>, type='Page-header', prob=0.33577513694763184, image_path=None, parent=None), LayoutElement(bbox=Rectangle(x1=123.93732452392578, y1=431.720703125, x2=1546.280517578125, y2=489.0075988769531), text=None, source=<Source.YOLOX: 'yolox'>, type='Section-header', prob=0.4079408347606659, image_path=None, parent=None), LayoutElement(bbox=Rectangle(x1=260.7880859375, y1=561.3048706054688, x2=597.5114135742188, y2=593.5818481445312), text=None, source=<Source.YOLOX: 'yolox'>, type='List-item', prob=0.31475603580474854, image_path=None, parent=None), LayoutElement(bbox=Rectangle(x1=412.6990966796875, y1=604.5830688476562, x2=1377.3406982421875, y2=636.9212646484375), text=None, source=<Source.YOLOX: 'yolox'>, type='Text', prob=0.3934032917022705, image_path=None, parent=None), LayoutElement(bbox=Rectangle(x1=267.74517822265625, y1=687.3006591796875, x2=663.419677734375, y2=722.7090454101562), text=None, source=<Source.YOLOX: 'yolox'>, type='List-item', prob=0.3707346022129059, image_path=None, parent=None), LayoutElement(bbox=Rectangle(x1=422.4516296386719, y1=719.6083374023438, x2=1077.112548828125, y2=763.2949829101562), text=None, source=<Source.YOLOX: 'yolox'>, type='Text', prob=0.2558801770210266, image_path=None, parent=None), LayoutElement(bbox=Rectangle(x1=258.53240966796875, y1=812.4794921875, x2=881.6591796875, y2=849.0274047851562), text=None, source=<Source.YOLOX: 'yolox'>, type='List-item', prob=0.5800614953041077, image_path=None, parent=None), LayoutElement(bbox=Rectangle(x1=432.29302978515625, y1=853.21728515625, x2=1411.9217529296875, y2=933.1709594726562), text=None, source=<Source.YOLOX: 'yolox'>, type='List-item', prob=0.8687986731529236, image_path=None, parent=None), LayoutElement(bbox=Rectangle(x1=433.031005859375, y1=941.8746948242188, x2=1560.1644287109375, y2=1058.469482421875), text=None, source=<Source.YOLOX: 'yolox'>, type='List-item', prob=0.9070496559143066, image_path=None, parent=None), LayoutElement(bbox=Rectangle(x1=431.17010498046875, y1=1066.2811279296875, x2=1546.5120849609375, y2=1145.332763671875), text=None, source=<Source.YOLOX: 'yolox'>, type='List-item', prob=0.8909111022949219, image_path=None, parent=None), LayoutElement(bbox=Rectangle(x1=264.3695373535156, y1=1194.7742919921875, x2=587.2427978515625, y2=1229.3759765625), text=None, source=<Source.YOLOX: 'yolox'>, type='List-item', prob=0.5225339531898499, image_path=None, parent=None), LayoutElement(bbox=Rectangle(x1=417.4862976074219, y1=1237.4759521484375, x2=1431.8594970703125, y2=1272.2919921875), text=None, source=<Source.YOLOX: 'yolox'>, type='Text', prob=0.7474443316459656, image_path=None, parent=None), LayoutElement(bbox=Rectangle(x1=264.0219421386719, y1=1320.989013671875, x2=762.9481201171875, y2=1356.8525390625), text=None, source=<Source.YOLOX: 'yolox'>, type='List-item', prob=0.5141617655754089, image_path=None, parent=None), LayoutElement(bbox=Rectangle(x1=397.1092529296875, y1=1364.9324951171875, x2=1268.9449462890625, y2=1397.848876953125), text=None, source=<Source.YOLOX: 'yolox'>, type='Text', prob=0.4094714820384979, image_path=None, parent=None), LayoutElement(bbox=Rectangle(x1=687.3958129882812, y1=1448.609130859375, x2=794.80029296875, y2=1478.6849365234375), text=None, source=<Source.YOLOX: 'yolox'>, type='Caption', prob=0.5766588449478149, image_path=None, parent=None), LayoutElement(bbox=Rectangle(x1=114.12439727783203, y1=1481.83984375, x2=1380.2607421875, y2=1664.37841796875), text=None, source=<Source.YOLOX: 'yolox'>, type='Table', prob=0.8947173953056335, image_path=None, parent=None), LayoutElement(bbox=Rectangle(x1=174.438720703125, y1=2081.30908203125, x2=216.33236694335938, y2=2108.05029296875), text=None, source=<Source.YOLOX: 'yolox'>, type='Text', prob=0.6949215531349182, image_path=None, parent=None), LayoutElement(bbox=Rectangle(x1=156.77076721191406, y1=2146.876220703125, x2=1266.8677978515625, y2=2192.1904296875), text=None, source=<Source.YOLOX: 'yolox'>, type='Text', prob=0.8760322332382202, image_path=None, parent=None), LayoutElement(bbox=Rectangle(x1=1345.9649658203125, y1=2146.900146484375, x2=1554.892822265625, y2=2193.59716796875), text=None, source=<Source.YOLOX: 'yolox'>, type='Text', prob=0.4973263144493103, image_path=None, parent=None)]\n",
      "[LayoutElement(bbox=Rectangle(x1=107.09969329833984, y1=60.505950927734375, x2=302.943359375, y2=101.13141632080078), text=None, source=<Source.YOLOX: 'yolox'>, type='Page-header', prob=0.36022257804870605, image_path=None, parent=None), LayoutElement(bbox=Rectangle(x1=122.70274353027344, y1=213.4668426513672, x2=1552.165283203125, y2=432.47406005859375), text=None, source=<Source.YOLOX: 'yolox'>, type='Section-header', prob=0.293226957321167, image_path=None, parent=None), LayoutElement(bbox=Rectangle(x1=437.7593994140625, y1=471.96868896484375, x2=1126.1031494140625, y2=507.0896911621094), text=None, source=<Source.YOLOX: 'yolox'>, type='Text', prob=0.42585664987564087, image_path=None, parent=None), LayoutElement(bbox=Rectangle(x1=346.9779968261719, y1=555.1027221679688, x2=981.9913940429688, y2=585.9459838867188), text=None, source=<Source.YOLOX: 'yolox'>, type='Text', prob=0.3691462278366089, image_path=None, parent=None), LayoutElement(bbox=Rectangle(x1=346.9793701171875, y1=600.2836303710938, x2=1002.0553588867188, y2=632.7777099609375), text=None, source=<Source.YOLOX: 'yolox'>, type='Text', prob=0.35665953159332275, image_path=None, parent=None), LayoutElement(bbox=Rectangle(x1=338.4897766113281, y1=751.9341430664062, x2=1360.0020751953125, y2=828.5189819335938), text=None, source=<Source.YOLOX: 'yolox'>, type='List-item', prob=0.35764893889427185, image_path=None, parent=None), LayoutElement(bbox=Rectangle(x1=338.338623046875, y1=844.7981567382812, x2=915.4232177734375, y2=876.8460083007812), text=None, source=<Source.YOLOX: 'yolox'>, type='Text', prob=0.27411943674087524, image_path=None, parent=None), LayoutElement(bbox=Rectangle(x1=436.2306823730469, y1=972.0538940429688, x2=1527.5430908203125, y2=1044.3524169921875), text=None, source=<Source.YOLOX: 'yolox'>, type='Text', prob=0.44362202286720276, image_path=None, parent=None), LayoutElement(bbox=Rectangle(x1=432.81414794921875, y1=1208.072509765625, x2=1225.3572998046875, y2=1247.40966796875), text=None, source=<Source.YOLOX: 'yolox'>, type='List-item', prob=0.34801456332206726, image_path=None, parent=None), LayoutElement(bbox=Rectangle(x1=437.90838623046875, y1=1331.1986083984375, x2=1513.780517578125, y2=1399.046142578125), text=None, source=<Source.YOLOX: 'yolox'>, type='Text', prob=0.39712658524513245, image_path=None, parent=None), LayoutElement(bbox=Rectangle(x1=138.6035919189453, y1=1569.7423095703125, x2=350.8786315917969, y2=1603.288330078125), text=None, source=<Source.YOLOX: 'yolox'>, type='Section-header', prob=0.6389970779418945, image_path=None, parent=None), LayoutElement(bbox=Rectangle(x1=382.5595703125, y1=1609.3568115234375, x2=1452.5634765625, y2=1683.8516845703125), text=None, source=<Source.YOLOX: 'yolox'>, type='List-item', prob=0.788086473941803, image_path=None, parent=None), LayoutElement(bbox=Rectangle(x1=385.030029296875, y1=1692.140869140625, x2=1363.1617431640625, y2=1723.951416015625), text=None, source=<Source.YOLOX: 'yolox'>, type='List-item', prob=0.7014055252075195, image_path=None, parent=None), LayoutElement(bbox=Rectangle(x1=174.22593688964844, y1=2043.646240234375, x2=215.55984497070312, y2=2070.31298828125), text=None, source=<Source.YOLOX: 'yolox'>, type='Text', prob=0.6280828714370728, image_path=None, parent=None), LayoutElement(bbox=Rectangle(x1=1345.241455078125, y1=2146.494873046875, x2=1555.762939453125, y2=2193.834228515625), text=None, source=<Source.YOLOX: 'yolox'>, type='Text', prob=0.5231671929359436, image_path=None, parent=None), LayoutElement(bbox=Rectangle(x1=159.26499938964844, y1=2146.718994140625, x2=1266.57861328125, y2=2192.513427734375), text=None, source=<Source.YOLOX: 'yolox'>, type='Text', prob=0.798130214214325, image_path=None, parent=None)]\n"
     ]
    }
   ],
   "source": [
    "for page in layout.pages:\n",
    "    elems = page.elements\n",
    "\n",
    "    print(elems)"
   ]
  },
  {
   "cell_type": "code",
   "execution_count": 61,
   "metadata": {},
   "outputs": [],
   "source": [
    "doc = process_file_with_model(\n",
    "    fname,\n",
    "    model_name=None,\n",
    ")"
   ]
  },
  {
   "cell_type": "code",
   "execution_count": 65,
   "metadata": {},
   "outputs": [
    {
     "ename": "IndentationError",
     "evalue": "unindent does not match any outer indentation level (<tokenize>, line 20)",
     "output_type": "error",
     "traceback": [
      "\u001b[1;36m  File \u001b[1;32m<tokenize>:20\u001b[1;36m\u001b[0m\n\u001b[1;33m    for action_type, action_value in annotation_data_map.items():\u001b[0m\n\u001b[1;37m    ^\u001b[0m\n\u001b[1;31mIndentationError\u001b[0m\u001b[1;31m:\u001b[0m unindent does not match any outer indentation level\n"
     ]
    }
   ],
   "source": [
    "from unstructured_inference.visualize import show_plot\n",
    "from unstructured_inference.inference.elements import ImageTextRegion\n",
    "from unstructured_inference.inference.layout import process_file_with_model\n",
    "from unstructured_inference.utils import write_image\n",
    "import os\n",
    "\n",
    "def run(f_path, scope):\n",
    "    annotation_data_map = {\n",
    "        \"final\": None,\n",
    "        \"extracted\": {\"layout\": {\"color\": \"green\", \"width\": 2}},\n",
    "        \"inferred\": {\"inferred_layout\": {\"color\": \"blue\", \"width\": 2}},\n",
    "    }\n",
    "\n",
    "    f_basename = os.path.splitext(os.path.basename(f_path))[0]\n",
    "    output_dir_path = os.path.join(output_basedir_path, f_basename)\n",
    "    os.makedirs(output_dir_path, exist_ok=True)\n",
    "\n",
    "    doc = process_file_with_model(\n",
    "        f_path,\n",
    "        model_name=None,\n",
    "    )\n",
    "\n",
    "    for idx, page in enumerate(doc.pages):\n",
    "        if scope == \"image_only\":\n",
    "            embedded_image_elements = [\n",
    "                el for el in page.layout if isinstance(el, ImageTextRegion)\n",
    "            ]\n",
    "            inferred_image_elements = [\n",
    "                el for el in page.inferred_layout if el.type == \"Figure\"\n",
    "            ]\n",
    "            final_image_elements = [el for el in page.elements if el.type == \"Image\"]\n",
    "\n",
    "            page.layout = embedded_image_elements\n",
    "            page.inferred_layout = inferred_image_elements\n",
    "            page.elements = final_image_elements\n",
    "\n",
    "        for action_type, action_value in annotation_data_map.items():\n",
    "            img = page.annotate(annotation_data=action_value)\n",
    "            output_f_path = os.path.join(output_dir_path, f\"{f_basename}_{idx+1}_{action_type}.jpg\")\n",
    "            write_image(img, output_f_path)\n",
    "\n",
    "        print(f\"page_num: {idx+1} - n_total_elements: {len(page.elements)} - n_extracted_elements: \"\n",
    "              f\"{len(page.layout)} - n_inferred_elements: {len(page.inferred_layout)}\")"
   ]
  },
  {
   "cell_type": "code",
   "execution_count": null,
   "metadata": {},
   "outputs": [],
   "source": [
    "import sys\n",
    "import os\n",
    "import pathlib\n",
    "\n",
    "CUR_DIR = pathlib.Path(__file__).parent.resolve()\n",
    "\n",
    "if len(sys.argv) < 3:\n",
    "        print(\n",
    "            \"Please provide the path to the file name as the first argument and the scope as the \"\n",
    "            \"second argument.\",\n",
    "        )\n",
    "        sys.exit(1)\n",
    "\n",
    "if sys.argv[2] not in [\"all\", \"image_only\"]:\n",
    "    print(\"Invalid scope\")\n",
    "    sys.exit(1)\n",
    "\n",
    "output_basedir_path = os.path.join(CUR_DIR, \"output\")\n",
    "os.makedirs(output_basedir_path, exist_ok=True)\n",
    "\n",
    "run(f_path=sys.argv[1], scope=sys.argv[2])"
   ]
  }
 ],
 "metadata": {
  "kernelspec": {
   "display_name": "dev0410",
   "language": "python",
   "name": "python3"
  },
  "language_info": {
   "codemirror_mode": {
    "name": "ipython",
    "version": 3
   },
   "file_extension": ".py",
   "mimetype": "text/x-python",
   "name": "python",
   "nbconvert_exporter": "python",
   "pygments_lexer": "ipython3",
   "version": "3.10.14"
  }
 },
 "nbformat": 4,
 "nbformat_minor": 2
}
